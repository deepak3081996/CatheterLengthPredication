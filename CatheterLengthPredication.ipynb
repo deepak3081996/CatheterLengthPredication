{
 "cells": [
  {
   "cell_type": "markdown",
   "metadata": {},
   "source": [
    "# Importing the datasets"
   ]
  },
  {
   "cell_type": "code",
   "execution_count": 48,
   "metadata": {
    "collapsed": true
   },
   "outputs": [],
   "source": [
    "import bs4 as bs\n",
    "import urllib.request\n",
    "import numpy as np\n",
    "import pandas as pd\n",
    "import matplotlib.pyplot as plt"
   ]
  },
  {
   "cell_type": "markdown",
   "metadata": {},
   "source": [
    "#  Fetching the data\n",
    "##  Reading data from the source url"
   ]
  },
  {
   "cell_type": "code",
   "execution_count": 17,
   "metadata": {},
   "outputs": [],
   "source": [
    "source = urllib.request.urlopen(r'https://people.sc.fsu.edu/~jburkardt/datasets/regression/x02.txt').read()\n",
    "\n",
    "soup = bs.BeautifulSoup(source, 'lxml')\n",
    "\n",
    "lines = soup.p.contents[0].split('\\n')\n"
   ]
  },
  {
   "cell_type": "markdown",
   "metadata": {},
   "source": [
    "## Removing the empty lines from the fetched data"
   ]
  },
  {
   "cell_type": "code",
   "execution_count": 44,
   "metadata": {},
   "outputs": [],
   "source": [
    "try:\n",
    "    lines.remove('')\n",
    "except:\n",
    "    pass"
   ]
  },
  {
   "cell_type": "markdown",
   "metadata": {},
   "source": [
    "## Creating the dataset"
   ]
  },
  {
   "cell_type": "code",
   "execution_count": 50,
   "metadata": {},
   "outputs": [],
   "source": [
    "l1 = []\n",
    "noOfColumns = 0\n",
    "noOfRows = 0\n",
    "for line in lines:\n",
    "  \n",
    "    if line[0] == '#':    # avoiding all the lines stating with '#' character\n",
    "        continue\n",
    "\n",
    "    if line[0] != '#' and (noOfColumns==0 or noOfRows==0):    # fetching the number of rows and columns\n",
    "        datalist = line.split(' ')\n",
    "\n",
    "        if datalist[1] == 'columns':\n",
    "            noOfColumns = int(datalist[0])\n",
    "            col = 0\n",
    "\n",
    "        elif datalist[1] == 'rows':\n",
    "            noOfRows = int(datalist[0])\n",
    "            row = 0\n",
    "\n",
    "    elif line[0] != '#' and noOfColumns>0 and noOfRows>0:    # fetfching all the rows and columns in 1-dimentional array as a list\n",
    "        datalist = line.strip().split()\n",
    "\n",
    "        if col<noOfColumns:\n",
    "            l1.append(' '.join(datalist))\n",
    "            col += 1\n",
    "\n",
    "        elif row<noOfRows:\n",
    "            l1 += datalist\n",
    "            row += 1\n",
    "            \n",
    "dataset = np.array([l1]).reshape((noOfRows+1,noOfColumns))    # Creating the dataset from the of shape(rows, columns) from the 1-D array with the coumns headers\n"
   ]
  },
  {
   "cell_type": "code",
   "execution_count": 51,
   "metadata": {
    "scrolled": true
   },
   "outputs": [
    {
     "name": "stdout",
     "output_type": "stream",
     "text": [
      "[['Index' 'Patient Height (inches)' 'Patient Weight (pounds)'\n",
      "  'Catheter Length (centimeters)']\n",
      " ['1' '42.8' '40.0' '37']\n",
      " ['2' '63.5' '93.5' '50']\n",
      " ['3' '37.5' '35.5' '34']\n",
      " ['4' '39.5' '30.0' '36']\n",
      " ['5' '45.5' '52.0' '43']\n",
      " ['6' '38.5' '17.0' '28']\n",
      " ['7' '43.0' '38.5' '37']\n",
      " ['8' '22.5' '8.5' '20']\n",
      " ['9' '37.0' '33.0' '34']\n",
      " ['10' '23.5' '9.5' '30']\n",
      " ['11' '33.0' '21.0' '38']\n",
      " ['12' '58.0' '79.0' '47']]\n"
     ]
    }
   ],
   "source": [
    "print(dataset)"
   ]
  },
  {
   "cell_type": "markdown",
   "metadata": {},
   "source": [
    "# Pre-processing of data"
   ]
  },
  {
   "cell_type": "markdown",
   "metadata": {},
   "source": [
    "##  creating a pandas dataframe"
   ]
  },
  {
   "cell_type": "code",
   "execution_count": 53,
   "metadata": {},
   "outputs": [],
   "source": [
    "df = pd.DataFrame(data=dataset[1:,1:],    # selecting all the rows and columns starting from 1st index location i.e. 2nd row and 2nd column as the data\n",
    "                 index=dataset[1:,0],     # 1st column of the dataset is the index and the rows starting from 1st index location\n",
    "                 columns=dataset[0,1:],   # ist row of the dataset is the column names it's the 0th row of the dataset\n",
    "                 dtype = 'float64')"
   ]
  },
  {
   "cell_type": "markdown",
   "metadata": {},
   "source": [
    "## let's have a look at the dataframe"
   ]
  },
  {
   "cell_type": "code",
   "execution_count": 55,
   "metadata": {},
   "outputs": [
    {
     "name": "stdout",
     "output_type": "stream",
     "text": [
      "    Patient Height (inches)  Patient Weight (pounds)  \\\n",
      "1                      42.8                     40.0   \n",
      "2                      63.5                     93.5   \n",
      "3                      37.5                     35.5   \n",
      "4                      39.5                     30.0   \n",
      "5                      45.5                     52.0   \n",
      "6                      38.5                     17.0   \n",
      "7                      43.0                     38.5   \n",
      "8                      22.5                      8.5   \n",
      "9                      37.0                     33.0   \n",
      "10                     23.5                      9.5   \n",
      "11                     33.0                     21.0   \n",
      "12                     58.0                     79.0   \n",
      "\n",
      "    Catheter Length (centimeters)  \n",
      "1                            37.0  \n",
      "2                            50.0  \n",
      "3                            34.0  \n",
      "4                            36.0  \n",
      "5                            43.0  \n",
      "6                            28.0  \n",
      "7                            37.0  \n",
      "8                            20.0  \n",
      "9                            34.0  \n",
      "10                           30.0  \n",
      "11                           38.0  \n",
      "12                           47.0  \n"
     ]
    }
   ],
   "source": [
    "print(df)"
   ]
  },
  {
   "cell_type": "markdown",
   "metadata": {},
   "source": [
    "## fetching the Independent Variables and Dependent Variable"
   ]
  },
  {
   "cell_type": "code",
   "execution_count": 176,
   "metadata": {},
   "outputs": [],
   "source": [
    "X = df.iloc[:,:2].values\n",
    "y = df.iloc[:,2:].values"
   ]
  },
  {
   "cell_type": "markdown",
   "metadata": {},
   "source": [
    "# <font color='black'> splitting the data into training set and testing set</font> "
   ]
  },
  {
   "cell_type": "code",
   "execution_count": 177,
   "metadata": {
    "collapsed": true
   },
   "outputs": [],
   "source": [
    "from sklearn.model_selection import train_test_split\n",
    "X_train, X_test, y_train, y_test = train_test_split(X, y, test_size=0.25, random_state=0)"
   ]
  },
  {
   "cell_type": "markdown",
   "metadata": {},
   "source": [
    "### in the above case we have 2 Independent Variables so in this case the best model to be fit is Multi Linear Regressor\n",
    "### The equation for the Multi Linear \n",
    "     y = b1*x1 + b2*x2"
   ]
  },
  {
   "cell_type": "markdown",
   "metadata": {},
   "source": [
    "#  Fitting the Multi Linear Regressor to the training set"
   ]
  },
  {
   "cell_type": "code",
   "execution_count": 178,
   "metadata": {},
   "outputs": [
    {
     "data": {
      "text/plain": [
       "LinearRegression(copy_X=True, fit_intercept=True, n_jobs=1, normalize=False)"
      ]
     },
     "execution_count": 178,
     "metadata": {},
     "output_type": "execute_result"
    }
   ],
   "source": [
    "from sklearn.linear_model import LinearRegression\n",
    "multi_linear_regressor = LinearRegression()\n",
    "multi_linear_regressor.fit(X_train, y_train)"
   ]
  },
  {
   "cell_type": "markdown",
   "metadata": {},
   "source": [
    "# Predicting the result of the regression"
   ]
  },
  {
   "cell_type": "code",
   "execution_count": 179,
   "metadata": {},
   "outputs": [],
   "source": [
    "y_pred = multi_linear_regressor.predict(X_test)"
   ]
  },
  {
   "cell_type": "code",
   "execution_count": 180,
   "metadata": {},
   "outputs": [
    {
     "name": "stdout",
     "output_type": "stream",
     "text": [
      "[[ 36.51406223]\n",
      " [ 47.12559846]\n",
      " [ 39.47931735]]\n"
     ]
    }
   ],
   "source": [
    "print(y_pred)"
   ]
  },
  {
   "cell_type": "code",
   "execution_count": 181,
   "metadata": {},
   "outputs": [
    {
     "name": "stdout",
     "output_type": "stream",
     "text": [
      "[[ 37.]\n",
      " [ 47.]\n",
      " [ 43.]]\n"
     ]
    }
   ],
   "source": [
    "print(y_test)"
   ]
  },
  {
   "cell_type": "code",
   "execution_count": 182,
   "metadata": {},
   "outputs": [
    {
     "name": "stdout",
     "output_type": "stream",
     "text": [
      "0.750385852234\n",
      "1.37740629444\n",
      "4.21570560672\n"
     ]
    }
   ],
   "source": [
    "from sklearn.metrics import r2_score, mean_absolute_error, mean_squared_error, accuracy_score\n",
    "print(r2_score(y_test, y_pred))\n",
    "print(mean_absolute_error(y_test, y_pred))\n",
    "print(mean_squared_error(y_test, y_pred))"
   ]
  },
  {
   "cell_type": "markdown",
   "metadata": {},
   "source": [
    "# Visualization of the results "
   ]
  },
  {
   "cell_type": "markdown",
   "metadata": {},
   "source": [
    "## Visualizing the training set results"
   ]
  },
  {
   "cell_type": "code",
   "execution_count": 183,
   "metadata": {},
   "outputs": [
    {
     "data": {
      "image/png": "[encoded data removed]",
      "text/plain": [
       "<matplotlib.figure.Figure at 0x25677f930b8>"
      ]
     },
     "metadata": {},
     "output_type": "display_data"
    }
   ],
   "source": [
    "plt.scatter(X_train[:,0], y_train, color='red')\n",
    "plt.plot(X_train[:,0], multi_linear_regressor.predict(X_train), color='blue')\n",
    "plt.title('Patient Weight vs Cathedral Length visual for the training set')\n",
    "plt.xlabel('{0}'.format(df.columns[0]))\n",
    "plt.ylabel('{0}'.format(df.columns[2]))\n",
    "plt.show()"
   ]
  },
  {
   "cell_type": "markdown",
   "metadata": {},
   "source": [
    "## Visualizing the test set results"
   ]
  },
  {
   "cell_type": "code",
   "execution_count": 186,
   "metadata": {},
   "outputs": [
    {
     "data": {
      "image/png": "[encoded data removed]",
      "text/plain": [
       "<matplotlib.figure.Figure at 0x25677f0e978>"
      ]
     },
     "metadata": {},
     "output_type": "display_data"
    }
   ],
   "source": [
    "plt.scatter(X_test[:,0], y_test, color='red')\n",
    "plt.scatter(X_test[:,0], y_pred, color='blue')\n",
    "plt.plot(X_train[:,0], multi_linear_regressor.predict(X_train), color='blue')\n",
    "plt.title('Patient Weight vs Cathedral Length visual for the testing set')\n",
    "plt.xlabel('{0}'.format(df.columns[0]))\n",
    "plt.ylabel('{0}'.format(df.columns[2]))\n",
    "plt.show()"
   ]
  },
  {
   "cell_type": "markdown",
   "metadata": {},
   "source": [
    "#### conclusion: By looking at the y_test and y_pred and calculating metrics of R-Square, mean absolute error and mean absolute square errors the results are pretty awesome but I'm little doubtful about the visualization since i can either show patient height or patient weight on the x axis of the 2D figure."
   ]
  }
 ],
 "metadata": {
  "kernelspec": {
   "display_name": "Python 3",
   "language": "python",
   "name": "python3"
  },
  "language_info": {
   "codemirror_mode": {
    "name": "ipython",
    "version": 3
   },
   "file_extension": ".py",
   "mimetype": "text/x-python",
   "name": "python",
   "nbconvert_exporter": "python",
   "pygments_lexer": "ipython3",
   "version": "3.5.3"
  }
 },
 "nbformat": 4,
 "nbformat_minor": 2
}
